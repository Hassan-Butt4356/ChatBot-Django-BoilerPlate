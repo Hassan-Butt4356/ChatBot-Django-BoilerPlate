{
 "cells": [
  {
   "cell_type": "code",
   "execution_count": 1,
   "metadata": {},
   "outputs": [],
   "source": [
    "import pandas as pd\n",
    "import numpy as np\n",
    "import json"
   ]
  },
  {
   "cell_type": "code",
   "execution_count": 2,
   "metadata": {},
   "outputs": [
    {
     "data": {
      "text/plain": [
       "[{'tag': 'greeting',\n",
       "  'patterns': ['Hi',\n",
       "   'How are you',\n",
       "   'Is anyone there?',\n",
       "   'Hello',\n",
       "   'Good day',\n",
       "   'Whats up'],\n",
       "  'responses': ['Hello!',\n",
       "   'Good to see you again!',\n",
       "   'Hi there, how can I help?'],\n",
       "  'context_set': ''},\n",
       " {'tag': 'age',\n",
       "  'patterns': ['how old',\n",
       "   'what is your age?',\n",
       "   'what is your age',\n",
       "   'how old are you',\n",
       "   'age?'],\n",
       "  'responses': ['I am 18 years old!', '18 years young!'],\n",
       "  'context_set': ''},\n",
       " {'tag': 'name',\n",
       "  'patterns': ['what is your name',\n",
       "   'what should I call you',\n",
       "   'whats your name?',\n",
       "   'your name',\n",
       "   'name please?'],\n",
       "  'responses': ['You can call me ChatBot.',\n",
       "   \"I'm ChatBot!\",\n",
       "   \"I'm ChatBot aka Static ChatBot.\"],\n",
       "  'context_set': ''},\n",
       " {'tag': 'service',\n",
       "  'patterns': ['your services',\n",
       "   'what are your services',\n",
       "   'what is your stack?'],\n",
       "  'responses': ['Data Science and Web Development using Python '],\n",
       "  'context_set': ''},\n",
       " {'tag': 'hours',\n",
       "  'patterns': ['when are you guys open',\n",
       "   'what are your hours',\n",
       "   'hours of operation',\n",
       "   'working hours',\n",
       "   'hours of work',\n",
       "   'work time'],\n",
       "  'responses': ['We are open 12pm-8pm Monday-Friday!'],\n",
       "  'context_set': ''},\n",
       " {'tag': 'goodbye',\n",
       "  'patterns': ['cya',\n",
       "   'See you later',\n",
       "   'Goodbye',\n",
       "   'I am Leaving',\n",
       "   'Have a Good day',\n",
       "   'Bye'],\n",
       "  'responses': ['Sad to see you go :(', 'Talk to you later', 'Goodbye!'],\n",
       "  'context_set': ''},\n",
       " {'tag': 'unknown',\n",
       "  'patterns': [\"Sorry, I don't understand.\",\n",
       "   'Can you repeat that?',\n",
       "   \"I'm not sure what you mean.\"],\n",
       "  'responses': [\"I'm sorry, I'm not sure what you're asking. Can you please try again?\"]}]"
      ]
     },
     "execution_count": 2,
     "metadata": {},
     "output_type": "execute_result"
    }
   ],
   "source": [
    "with open('intents.json','r') as f:\n",
    "    file=json.load(f)\n",
    "file['intents']"
   ]
  },
  {
   "cell_type": "code",
   "execution_count": 3,
   "metadata": {},
   "outputs": [],
   "source": [
    "tags=[]\n",
    "patterns=[]\n",
    "responses={}\n",
    "context={}\n",
    "for intent in file['intents']:\n",
    "    responses[intent['tag']]=intent['responses']\n",
    "    for line in intent['patterns']:\n",
    "        patterns.append(line)\n",
    "        tags.append(intent['tag'])"
   ]
  },
  {
   "cell_type": "code",
   "execution_count": 4,
   "metadata": {},
   "outputs": [
    {
     "name": "stdout",
     "output_type": "stream",
     "text": [
      "['greeting', 'greeting', 'greeting', 'greeting', 'greeting', 'greeting', 'age', 'age', 'age', 'age', 'age', 'name', 'name', 'name', 'name', 'name', 'service', 'service', 'service', 'hours', 'hours', 'hours', 'hours', 'hours', 'hours', 'goodbye', 'goodbye', 'goodbye', 'goodbye', 'goodbye', 'goodbye', 'unknown', 'unknown', 'unknown']\n"
     ]
    }
   ],
   "source": [
    "print(tags)"
   ]
  },
  {
   "cell_type": "code",
   "execution_count": 5,
   "metadata": {
    "scrolled": false
   },
   "outputs": [
    {
     "name": "stdout",
     "output_type": "stream",
     "text": [
      "{'greeting': ['Hello!', 'Good to see you again!', 'Hi there, how can I help?'], 'age': ['I am 18 years old!', '18 years young!'], 'name': ['You can call me ChatBot.', \"I'm ChatBot!\", \"I'm ChatBot aka Static ChatBot.\"], 'service': ['Data Science and Web Development using Python '], 'hours': ['We are open 12pm-8pm Monday-Friday!'], 'goodbye': ['Sad to see you go :(', 'Talk to you later', 'Goodbye!'], 'unknown': [\"I'm sorry, I'm not sure what you're asking. Can you please try again?\"]}\n"
     ]
    }
   ],
   "source": [
    "print(responses)"
   ]
  },
  {
   "cell_type": "code",
   "execution_count": 38,
   "metadata": {},
   "outputs": [],
   "source": [
    "with open('responses.json','w') as f:\n",
    "    json.dump(responses,f)"
   ]
  },
  {
   "cell_type": "code",
   "execution_count": 40,
   "metadata": {},
   "outputs": [
    {
     "name": "stdout",
     "output_type": "stream",
     "text": [
      "{'greeting': ['Hello!', 'Good to see you again!', 'Hi there, how can I help?'], 'age': ['I am 18 years old!', '18 years young!'], 'name': ['You can call me ChatBot.', \"I'm ChatBot!\", \"I'm ChatBot aka Static ChatBot.\"], 'service': ['Data Science and Web Development using Python '], 'hours': ['We are open 12pm-8pm Monday-Friday!'], 'goodbye': ['Sad to see you go :(', 'Talk to you later', 'Goodbye!'], 'unknown': [\"I'm sorry, I'm not sure what you're asking. Can you please try again?\"]}\n"
     ]
    }
   ],
   "source": [
    "with open('responses.json', 'r') as f:\n",
    "    # Load the dictionary from the file\n",
    "    my_dict = json.load(f)\n",
    "\n",
    "# Print the contents of the dictionary\n",
    "print(my_dict)"
   ]
  },
  {
   "cell_type": "code",
   "execution_count": 6,
   "metadata": {},
   "outputs": [
    {
     "name": "stdout",
     "output_type": "stream",
     "text": [
      "['Hi', 'How are you', 'Is anyone there?', 'Hello', 'Good day', 'Whats up', 'how old', 'what is your age?', 'what is your age', 'how old are you', 'age?', 'what is your name', 'what should I call you', 'whats your name?', 'your name', 'name please?', 'your services', 'what are your services', 'what is your stack?', 'when are you guys open', 'what are your hours', 'hours of operation', 'working hours', 'hours of work', 'work time', 'cya', 'See you later', 'Goodbye', 'I am Leaving', 'Have a Good day', 'Bye', \"Sorry, I don't understand.\", 'Can you repeat that?', \"I'm not sure what you mean.\"]\n"
     ]
    }
   ],
   "source": [
    "print(patterns)"
   ]
  },
  {
   "cell_type": "code",
   "execution_count": 7,
   "metadata": {},
   "outputs": [],
   "source": [
    "df=pd.DataFrame({'patterns':patterns,'tags':tags})"
   ]
  },
  {
   "cell_type": "code",
   "execution_count": 8,
   "metadata": {},
   "outputs": [
    {
     "data": {
      "text/html": [
       "<div>\n",
       "<style scoped>\n",
       "    .dataframe tbody tr th:only-of-type {\n",
       "        vertical-align: middle;\n",
       "    }\n",
       "\n",
       "    .dataframe tbody tr th {\n",
       "        vertical-align: top;\n",
       "    }\n",
       "\n",
       "    .dataframe thead th {\n",
       "        text-align: right;\n",
       "    }\n",
       "</style>\n",
       "<table border=\"1\" class=\"dataframe\">\n",
       "  <thead>\n",
       "    <tr style=\"text-align: right;\">\n",
       "      <th></th>\n",
       "      <th>patterns</th>\n",
       "      <th>tags</th>\n",
       "    </tr>\n",
       "  </thead>\n",
       "  <tbody>\n",
       "    <tr>\n",
       "      <th>0</th>\n",
       "      <td>Hi</td>\n",
       "      <td>greeting</td>\n",
       "    </tr>\n",
       "    <tr>\n",
       "      <th>1</th>\n",
       "      <td>How are you</td>\n",
       "      <td>greeting</td>\n",
       "    </tr>\n",
       "    <tr>\n",
       "      <th>2</th>\n",
       "      <td>Is anyone there?</td>\n",
       "      <td>greeting</td>\n",
       "    </tr>\n",
       "    <tr>\n",
       "      <th>3</th>\n",
       "      <td>Hello</td>\n",
       "      <td>greeting</td>\n",
       "    </tr>\n",
       "    <tr>\n",
       "      <th>4</th>\n",
       "      <td>Good day</td>\n",
       "      <td>greeting</td>\n",
       "    </tr>\n",
       "  </tbody>\n",
       "</table>\n",
       "</div>"
      ],
      "text/plain": [
       "           patterns      tags\n",
       "0                Hi  greeting\n",
       "1       How are you  greeting\n",
       "2  Is anyone there?  greeting\n",
       "3             Hello  greeting\n",
       "4          Good day  greeting"
      ]
     },
     "execution_count": 8,
     "metadata": {},
     "output_type": "execute_result"
    }
   ],
   "source": [
    "df.head()"
   ]
  },
  {
   "cell_type": "code",
   "execution_count": 9,
   "metadata": {},
   "outputs": [
    {
     "name": "stdout",
     "output_type": "stream",
     "text": [
      "<class 'pandas.core.frame.DataFrame'>\n",
      "RangeIndex: 34 entries, 0 to 33\n",
      "Data columns (total 2 columns):\n",
      " #   Column    Non-Null Count  Dtype \n",
      "---  ------    --------------  ----- \n",
      " 0   patterns  34 non-null     object\n",
      " 1   tags      34 non-null     object\n",
      "dtypes: object(2)\n",
      "memory usage: 672.0+ bytes\n"
     ]
    }
   ],
   "source": [
    "df.info()"
   ]
  },
  {
   "cell_type": "code",
   "execution_count": 10,
   "metadata": {},
   "outputs": [],
   "source": [
    "import string\n",
    "df['patterns']=df.patterns.apply(lambda wrd:[ltrs.lower() for ltrs in wrd if ltrs not in string.punctuation])\n",
    "df['patterns']=df.patterns.apply(lambda wrd: ''.join(wrd))"
   ]
  },
  {
   "cell_type": "code",
   "execution_count": 11,
   "metadata": {},
   "outputs": [
    {
     "data": {
      "text/html": [
       "<div>\n",
       "<style scoped>\n",
       "    .dataframe tbody tr th:only-of-type {\n",
       "        vertical-align: middle;\n",
       "    }\n",
       "\n",
       "    .dataframe tbody tr th {\n",
       "        vertical-align: top;\n",
       "    }\n",
       "\n",
       "    .dataframe thead th {\n",
       "        text-align: right;\n",
       "    }\n",
       "</style>\n",
       "<table border=\"1\" class=\"dataframe\">\n",
       "  <thead>\n",
       "    <tr style=\"text-align: right;\">\n",
       "      <th></th>\n",
       "      <th>patterns</th>\n",
       "      <th>tags</th>\n",
       "    </tr>\n",
       "  </thead>\n",
       "  <tbody>\n",
       "    <tr>\n",
       "      <th>0</th>\n",
       "      <td>hi</td>\n",
       "      <td>greeting</td>\n",
       "    </tr>\n",
       "    <tr>\n",
       "      <th>1</th>\n",
       "      <td>how are you</td>\n",
       "      <td>greeting</td>\n",
       "    </tr>\n",
       "    <tr>\n",
       "      <th>2</th>\n",
       "      <td>is anyone there</td>\n",
       "      <td>greeting</td>\n",
       "    </tr>\n",
       "    <tr>\n",
       "      <th>3</th>\n",
       "      <td>hello</td>\n",
       "      <td>greeting</td>\n",
       "    </tr>\n",
       "    <tr>\n",
       "      <th>4</th>\n",
       "      <td>good day</td>\n",
       "      <td>greeting</td>\n",
       "    </tr>\n",
       "  </tbody>\n",
       "</table>\n",
       "</div>"
      ],
      "text/plain": [
       "          patterns      tags\n",
       "0               hi  greeting\n",
       "1      how are you  greeting\n",
       "2  is anyone there  greeting\n",
       "3            hello  greeting\n",
       "4         good day  greeting"
      ]
     },
     "execution_count": 11,
     "metadata": {},
     "output_type": "execute_result"
    }
   ],
   "source": [
    "df.head()"
   ]
  },
  {
   "cell_type": "code",
   "execution_count": 12,
   "metadata": {
    "scrolled": true
   },
   "outputs": [
    {
     "name": "stderr",
     "output_type": "stream",
     "text": [
      "2023-02-28 17:13:59.359591: I tensorflow/core/platform/cpu_feature_guard.cc:193] This TensorFlow binary is optimized with oneAPI Deep Neural Network Library (oneDNN) to use the following CPU instructions in performance-critical operations:  AVX2 FMA\n",
      "To enable them in other operations, rebuild TensorFlow with the appropriate compiler flags.\n",
      "2023-02-28 17:13:59.527668: W tensorflow/compiler/xla/stream_executor/platform/default/dso_loader.cc:64] Could not load dynamic library 'libcudart.so.11.0'; dlerror: libcudart.so.11.0: cannot open shared object file: No such file or directory\n",
      "2023-02-28 17:13:59.527700: I tensorflow/compiler/xla/stream_executor/cuda/cudart_stub.cc:29] Ignore above cudart dlerror if you do not have a GPU set up on your machine.\n",
      "2023-02-28 17:14:00.238084: W tensorflow/compiler/xla/stream_executor/platform/default/dso_loader.cc:64] Could not load dynamic library 'libnvinfer.so.7'; dlerror: libnvinfer.so.7: cannot open shared object file: No such file or directory\n",
      "2023-02-28 17:14:00.238150: W tensorflow/compiler/xla/stream_executor/platform/default/dso_loader.cc:64] Could not load dynamic library 'libnvinfer_plugin.so.7'; dlerror: libnvinfer_plugin.so.7: cannot open shared object file: No such file or directory\n",
      "2023-02-28 17:14:00.238156: W tensorflow/compiler/tf2tensorrt/utils/py_utils.cc:38] TF-TRT Warning: Cannot dlopen some TensorRT libraries. If you would like to use Nvidia GPU with TensorRT, please make sure the missing libraries mentioned above are installed properly.\n"
     ]
    }
   ],
   "source": [
    "from tensorflow.keras.preprocessing.text import Tokenizer\n",
    "tokenizer=Tokenizer(num_words=2000)\n",
    "tokenizer.fit_on_texts(df['patterns'])\n",
    "train=tokenizer.texts_to_sequences(df['patterns'])\n",
    "\n",
    "from tensorflow.keras.preprocessing.sequence import pad_sequences\n",
    "x_train=pad_sequences(train)\n",
    "\n",
    "from sklearn.preprocessing import LabelEncoder\n",
    "\n",
    "le=LabelEncoder()\n",
    "y_train=le.fit_transform(df['tags'])"
   ]
  },
  {
   "cell_type": "code",
   "execution_count": 13,
   "metadata": {
    "scrolled": true
   },
   "outputs": [
    {
     "data": {
      "text/plain": [
       "array([2, 2, 2, 2, 2, 2, 0, 0, 0, 0, 0, 4, 4, 4, 4, 4, 5, 5, 5, 3, 3, 3,\n",
       "       3, 3, 3, 1, 1, 1, 1, 1, 1, 6, 6, 6])"
      ]
     },
     "execution_count": 13,
     "metadata": {},
     "output_type": "execute_result"
    }
   ],
   "source": [
    "y_train"
   ]
  },
  {
   "cell_type": "code",
   "execution_count": 14,
   "metadata": {
    "scrolled": true
   },
   "outputs": [
    {
     "data": {
      "text/plain": [
       "array(['age', 'goodbye', 'greeting', 'hours', 'name', 'service',\n",
       "       'unknown'], dtype=object)"
      ]
     },
     "execution_count": 14,
     "metadata": {},
     "output_type": "execute_result"
    }
   ],
   "source": [
    "le.classes_"
   ]
  },
  {
   "cell_type": "code",
   "execution_count": 35,
   "metadata": {},
   "outputs": [],
   "source": [
    "np.savetxt('classes.txt', le.classes_, fmt='%s')"
   ]
  },
  {
   "cell_type": "code",
   "execution_count": 36,
   "metadata": {},
   "outputs": [
    {
     "data": {
      "text/plain": [
       "array(['age', 'goodbye', 'greeting', 'hours', 'name', 'service',\n",
       "       'unknown'], dtype='<U8')"
      ]
     },
     "execution_count": 36,
     "metadata": {},
     "output_type": "execute_result"
    }
   ],
   "source": [
    "classes = np.loadtxt('classes.txt', dtype=str)\n",
    "\n",
    "# Create a new label encoder and set its classes\n",
    "le = LabelEncoder()\n",
    "le.classes_ = classes\n",
    "le.classes_"
   ]
  },
  {
   "cell_type": "code",
   "execution_count": 15,
   "metadata": {},
   "outputs": [
    {
     "data": {
      "text/plain": [
       "{'your': 1,\n",
       " 'what': 2,\n",
       " 'you': 3,\n",
       " 'are': 4,\n",
       " 'is': 5,\n",
       " 'name': 6,\n",
       " 'hours': 7,\n",
       " 'how': 8,\n",
       " 'age': 9,\n",
       " 'i': 10,\n",
       " 'good': 11,\n",
       " 'day': 12,\n",
       " 'whats': 13,\n",
       " 'old': 14,\n",
       " 'services': 15,\n",
       " 'of': 16,\n",
       " 'work': 17,\n",
       " 'hi': 18,\n",
       " 'anyone': 19,\n",
       " 'there': 20,\n",
       " 'hello': 21,\n",
       " 'up': 22,\n",
       " 'should': 23,\n",
       " 'call': 24,\n",
       " 'please': 25,\n",
       " 'stack': 26,\n",
       " 'when': 27,\n",
       " 'guys': 28,\n",
       " 'open': 29,\n",
       " 'operation': 30,\n",
       " 'working': 31,\n",
       " 'time': 32,\n",
       " 'cya': 33,\n",
       " 'see': 34,\n",
       " 'later': 35,\n",
       " 'goodbye': 36,\n",
       " 'am': 37,\n",
       " 'leaving': 38,\n",
       " 'have': 39,\n",
       " 'a': 40,\n",
       " 'bye': 41,\n",
       " 'sorry': 42,\n",
       " 'dont': 43,\n",
       " 'understand': 44,\n",
       " 'can': 45,\n",
       " 'repeat': 46,\n",
       " 'that': 47,\n",
       " 'im': 48,\n",
       " 'not': 49,\n",
       " 'sure': 50,\n",
       " 'mean': 51}"
      ]
     },
     "execution_count": 15,
     "metadata": {},
     "output_type": "execute_result"
    }
   ],
   "source": [
    "tokenizer.word_index"
   ]
  },
  {
   "cell_type": "code",
   "execution_count": 16,
   "metadata": {},
   "outputs": [
    {
     "data": {
      "text/plain": [
       "34"
      ]
     },
     "execution_count": 16,
     "metadata": {},
     "output_type": "execute_result"
    }
   ],
   "source": [
    "len(train)"
   ]
  },
  {
   "cell_type": "code",
   "execution_count": 17,
   "metadata": {},
   "outputs": [],
   "source": [
    "input_shape=x_train.shape[1]"
   ]
  },
  {
   "cell_type": "code",
   "execution_count": 37,
   "metadata": {},
   "outputs": [
    {
     "data": {
      "text/plain": [
       "6"
      ]
     },
     "execution_count": 37,
     "metadata": {},
     "output_type": "execute_result"
    }
   ],
   "source": [
    "input_shape"
   ]
  },
  {
   "cell_type": "code",
   "execution_count": 18,
   "metadata": {},
   "outputs": [
    {
     "name": "stdout",
     "output_type": "stream",
     "text": [
      "51\n",
      "7\n"
     ]
    }
   ],
   "source": [
    "vocabulary=len(tokenizer.word_index)\n",
    "print(vocabulary)\n",
    "output_shape=le.classes_.shape[0]\n",
    "print(output_shape)"
   ]
  },
  {
   "cell_type": "code",
   "execution_count": 19,
   "metadata": {},
   "outputs": [],
   "source": [
    "from tensorflow.keras.models import Model\n",
    "from tensorflow.keras.layers import LSTM,Dropout,GlobalMaxPooling1D,Flatten,Input,Embedding,Dense"
   ]
  },
  {
   "cell_type": "code",
   "execution_count": 20,
   "metadata": {},
   "outputs": [
    {
     "name": "stderr",
     "output_type": "stream",
     "text": [
      "2023-02-28 17:14:01.160636: W tensorflow/compiler/xla/stream_executor/platform/default/dso_loader.cc:64] Could not load dynamic library 'libcuda.so.1'; dlerror: libcuda.so.1: cannot open shared object file: No such file or directory\n",
      "2023-02-28 17:14:01.160675: W tensorflow/compiler/xla/stream_executor/cuda/cuda_driver.cc:265] failed call to cuInit: UNKNOWN ERROR (303)\n",
      "2023-02-28 17:14:01.160701: I tensorflow/compiler/xla/stream_executor/cuda/cuda_diagnostics.cc:156] kernel driver does not appear to be running on this host (hassan-Laptop): /proc/driver/nvidia/version does not exist\n",
      "2023-02-28 17:14:01.160938: I tensorflow/core/platform/cpu_feature_guard.cc:193] This TensorFlow binary is optimized with oneAPI Deep Neural Network Library (oneDNN) to use the following CPU instructions in performance-critical operations:  AVX2 FMA\n",
      "To enable them in other operations, rebuild TensorFlow with the appropriate compiler flags.\n"
     ]
    }
   ],
   "source": [
    "inpt=Input(shape=(input_shape,))\n",
    "embedding=Embedding(vocabulary+1,10)(inpt)\n",
    "rnn=LSTM(20,return_sequences=True)(embedding)\n",
    "flatten=Flatten()(rnn)\n",
    "output=Dense(output_shape,activation='softmax')(flatten)\n",
    "model=Model(inpt,output)"
   ]
  },
  {
   "cell_type": "code",
   "execution_count": 21,
   "metadata": {},
   "outputs": [],
   "source": [
    "model.compile(loss='sparse_categorical_crossentropy',optimizer='adam',metrics=['accuracy'])"
   ]
  },
  {
   "cell_type": "code",
   "execution_count": 22,
   "metadata": {},
   "outputs": [
    {
     "name": "stdout",
     "output_type": "stream",
     "text": [
      "Model: \"model\"\n",
      "_________________________________________________________________\n",
      " Layer (type)                Output Shape              Param #   \n",
      "=================================================================\n",
      " input_1 (InputLayer)        [(None, 6)]               0         \n",
      "                                                                 \n",
      " embedding (Embedding)       (None, 6, 10)             520       \n",
      "                                                                 \n",
      " lstm (LSTM)                 (None, 6, 20)             2480      \n",
      "                                                                 \n",
      " flatten (Flatten)           (None, 120)               0         \n",
      "                                                                 \n",
      " dense (Dense)               (None, 7)                 847       \n",
      "                                                                 \n",
      "=================================================================\n",
      "Total params: 3,847\n",
      "Trainable params: 3,847\n",
      "Non-trainable params: 0\n",
      "_________________________________________________________________\n"
     ]
    }
   ],
   "source": [
    "model.summary()"
   ]
  },
  {
   "cell_type": "code",
   "execution_count": 23,
   "metadata": {},
   "outputs": [
    {
     "name": "stdout",
     "output_type": "stream",
     "text": [
      "Epoch 1/300\n",
      "2/2 [==============================] - 1s 11ms/step - loss: 1.9459 - accuracy: 0.2059\n",
      "Epoch 2/300\n",
      "2/2 [==============================] - 0s 6ms/step - loss: 1.9441 - accuracy: 0.2353\n",
      "Epoch 3/300\n",
      "2/2 [==============================] - 0s 5ms/step - loss: 1.9429 - accuracy: 0.2353\n",
      "Epoch 4/300\n",
      "2/2 [==============================] - 0s 5ms/step - loss: 1.9416 - accuracy: 0.2059\n",
      "Epoch 5/300\n",
      "2/2 [==============================] - 0s 5ms/step - loss: 1.9405 - accuracy: 0.1765\n",
      "Epoch 6/300\n",
      "2/2 [==============================] - 0s 5ms/step - loss: 1.9391 - accuracy: 0.1765\n",
      "Epoch 7/300\n",
      "2/2 [==============================] - 0s 5ms/step - loss: 1.9380 - accuracy: 0.2059\n",
      "Epoch 8/300\n",
      "2/2 [==============================] - 0s 5ms/step - loss: 1.9369 - accuracy: 0.2059\n",
      "Epoch 9/300\n",
      "2/2 [==============================] - 0s 6ms/step - loss: 1.9356 - accuracy: 0.2059\n",
      "Epoch 10/300\n",
      "2/2 [==============================] - 0s 5ms/step - loss: 1.9344 - accuracy: 0.2059\n",
      "Epoch 11/300\n",
      "2/2 [==============================] - 0s 5ms/step - loss: 1.9332 - accuracy: 0.2059\n",
      "Epoch 12/300\n",
      "2/2 [==============================] - 0s 5ms/step - loss: 1.9319 - accuracy: 0.2059\n",
      "Epoch 13/300\n",
      "2/2 [==============================] - 0s 5ms/step - loss: 1.9306 - accuracy: 0.2059\n",
      "Epoch 14/300\n",
      "2/2 [==============================] - 0s 5ms/step - loss: 1.9293 - accuracy: 0.2059\n",
      "Epoch 15/300\n",
      "2/2 [==============================] - 0s 5ms/step - loss: 1.9278 - accuracy: 0.2059\n",
      "Epoch 16/300\n",
      "2/2 [==============================] - 0s 5ms/step - loss: 1.9266 - accuracy: 0.2353\n",
      "Epoch 17/300\n",
      "2/2 [==============================] - 0s 5ms/step - loss: 1.9252 - accuracy: 0.2059\n",
      "Epoch 18/300\n",
      "2/2 [==============================] - 0s 5ms/step - loss: 1.9239 - accuracy: 0.2353\n",
      "Epoch 19/300\n",
      "2/2 [==============================] - 0s 5ms/step - loss: 1.9225 - accuracy: 0.2353\n",
      "Epoch 20/300\n",
      "2/2 [==============================] - 0s 5ms/step - loss: 1.9209 - accuracy: 0.2353\n",
      "Epoch 21/300\n",
      "2/2 [==============================] - 0s 5ms/step - loss: 1.9193 - accuracy: 0.2647\n",
      "Epoch 22/300\n",
      "2/2 [==============================] - 0s 5ms/step - loss: 1.9175 - accuracy: 0.2647\n",
      "Epoch 23/300\n",
      "2/2 [==============================] - 0s 4ms/step - loss: 1.9157 - accuracy: 0.2941\n",
      "Epoch 24/300\n",
      "2/2 [==============================] - 0s 5ms/step - loss: 1.9137 - accuracy: 0.3235\n",
      "Epoch 25/300\n",
      "2/2 [==============================] - 0s 5ms/step - loss: 1.9114 - accuracy: 0.3235\n",
      "Epoch 26/300\n",
      "2/2 [==============================] - 0s 5ms/step - loss: 1.9092 - accuracy: 0.3235\n",
      "Epoch 27/300\n",
      "2/2 [==============================] - 0s 5ms/step - loss: 1.9067 - accuracy: 0.3235\n",
      "Epoch 28/300\n",
      "2/2 [==============================] - 0s 6ms/step - loss: 1.9043 - accuracy: 0.3235\n",
      "Epoch 29/300\n",
      "2/2 [==============================] - 0s 5ms/step - loss: 1.9016 - accuracy: 0.3235\n",
      "Epoch 30/300\n",
      "2/2 [==============================] - 0s 5ms/step - loss: 1.8989 - accuracy: 0.3235\n",
      "Epoch 31/300\n",
      "2/2 [==============================] - 0s 5ms/step - loss: 1.8961 - accuracy: 0.3235\n",
      "Epoch 32/300\n",
      "2/2 [==============================] - 0s 5ms/step - loss: 1.8936 - accuracy: 0.3235\n",
      "Epoch 33/300\n",
      "2/2 [==============================] - 0s 5ms/step - loss: 1.8908 - accuracy: 0.3235\n",
      "Epoch 34/300\n",
      "2/2 [==============================] - 0s 5ms/step - loss: 1.8881 - accuracy: 0.3235\n",
      "Epoch 35/300\n",
      "2/2 [==============================] - 0s 5ms/step - loss: 1.8855 - accuracy: 0.3235\n",
      "Epoch 36/300\n",
      "2/2 [==============================] - 0s 5ms/step - loss: 1.8826 - accuracy: 0.3235\n",
      "Epoch 37/300\n",
      "2/2 [==============================] - 0s 5ms/step - loss: 1.8804 - accuracy: 0.2647\n",
      "Epoch 38/300\n",
      "2/2 [==============================] - 0s 5ms/step - loss: 1.8788 - accuracy: 0.2059\n",
      "Epoch 39/300\n",
      "2/2 [==============================] - 0s 6ms/step - loss: 1.8770 - accuracy: 0.2059\n",
      "Epoch 40/300\n",
      "2/2 [==============================] - 0s 5ms/step - loss: 1.8749 - accuracy: 0.2353\n",
      "Epoch 41/300\n",
      "2/2 [==============================] - 0s 5ms/step - loss: 1.8727 - accuracy: 0.3529\n",
      "Epoch 42/300\n",
      "2/2 [==============================] - 0s 6ms/step - loss: 1.8704 - accuracy: 0.3824\n",
      "Epoch 43/300\n",
      "2/2 [==============================] - 0s 5ms/step - loss: 1.8680 - accuracy: 0.4118\n",
      "Epoch 44/300\n",
      "2/2 [==============================] - 0s 6ms/step - loss: 1.8651 - accuracy: 0.4118\n",
      "Epoch 45/300\n",
      "2/2 [==============================] - 0s 6ms/step - loss: 1.8617 - accuracy: 0.4118\n",
      "Epoch 46/300\n",
      "2/2 [==============================] - 0s 6ms/step - loss: 1.8579 - accuracy: 0.4412\n",
      "Epoch 47/300\n",
      "2/2 [==============================] - 0s 6ms/step - loss: 1.8538 - accuracy: 0.5000\n",
      "Epoch 48/300\n",
      "2/2 [==============================] - 0s 5ms/step - loss: 1.8499 - accuracy: 0.5000\n",
      "Epoch 49/300\n",
      "2/2 [==============================] - 0s 6ms/step - loss: 1.8456 - accuracy: 0.5000\n",
      "Epoch 50/300\n",
      "2/2 [==============================] - 0s 5ms/step - loss: 1.8416 - accuracy: 0.4412\n",
      "Epoch 51/300\n",
      "2/2 [==============================] - 0s 6ms/step - loss: 1.8377 - accuracy: 0.4118\n",
      "Epoch 52/300\n",
      "2/2 [==============================] - 0s 5ms/step - loss: 1.8335 - accuracy: 0.4412\n",
      "Epoch 53/300\n",
      "2/2 [==============================] - 0s 6ms/step - loss: 1.8298 - accuracy: 0.4412\n",
      "Epoch 54/300\n",
      "2/2 [==============================] - 0s 6ms/step - loss: 1.8266 - accuracy: 0.4706\n",
      "Epoch 55/300\n",
      "2/2 [==============================] - 0s 7ms/step - loss: 1.8230 - accuracy: 0.4412\n",
      "Epoch 56/300\n",
      "2/2 [==============================] - 0s 6ms/step - loss: 1.8193 - accuracy: 0.4412\n",
      "Epoch 57/300\n",
      "2/2 [==============================] - 0s 5ms/step - loss: 1.8154 - accuracy: 0.4412\n",
      "Epoch 58/300\n",
      "2/2 [==============================] - 0s 6ms/step - loss: 1.8108 - accuracy: 0.4412\n",
      "Epoch 59/300\n",
      "2/2 [==============================] - 0s 5ms/step - loss: 1.8066 - accuracy: 0.4412\n",
      "Epoch 60/300\n",
      "2/2 [==============================] - 0s 7ms/step - loss: 1.8019 - accuracy: 0.4412\n",
      "Epoch 61/300\n",
      "2/2 [==============================] - 0s 6ms/step - loss: 1.7977 - accuracy: 0.4118\n",
      "Epoch 62/300\n",
      "2/2 [==============================] - 0s 5ms/step - loss: 1.7927 - accuracy: 0.3824\n",
      "Epoch 63/300\n",
      "2/2 [==============================] - 0s 6ms/step - loss: 1.7871 - accuracy: 0.3824\n",
      "Epoch 64/300\n",
      "2/2 [==============================] - 0s 7ms/step - loss: 1.7815 - accuracy: 0.4706\n",
      "Epoch 65/300\n",
      "2/2 [==============================] - 0s 6ms/step - loss: 1.7754 - accuracy: 0.4706\n",
      "Epoch 66/300\n",
      "2/2 [==============================] - 0s 6ms/step - loss: 1.7688 - accuracy: 0.4118\n",
      "Epoch 67/300\n",
      "2/2 [==============================] - 0s 6ms/step - loss: 1.7624 - accuracy: 0.4118\n",
      "Epoch 68/300\n",
      "2/2 [==============================] - 0s 5ms/step - loss: 1.7558 - accuracy: 0.4118\n",
      "Epoch 69/300\n",
      "2/2 [==============================] - 0s 6ms/step - loss: 1.7503 - accuracy: 0.4118\n",
      "Epoch 70/300\n",
      "2/2 [==============================] - 0s 5ms/step - loss: 1.7445 - accuracy: 0.3529\n",
      "Epoch 71/300\n",
      "2/2 [==============================] - 0s 5ms/step - loss: 1.7382 - accuracy: 0.3235\n",
      "Epoch 72/300\n",
      "2/2 [==============================] - 0s 5ms/step - loss: 1.7312 - accuracy: 0.3235\n",
      "Epoch 73/300\n",
      "2/2 [==============================] - 0s 5ms/step - loss: 1.7248 - accuracy: 0.2941\n",
      "Epoch 74/300\n",
      "2/2 [==============================] - 0s 6ms/step - loss: 1.7186 - accuracy: 0.2647\n",
      "Epoch 75/300\n",
      "2/2 [==============================] - 0s 6ms/step - loss: 1.7114 - accuracy: 0.2647\n",
      "Epoch 76/300\n",
      "2/2 [==============================] - 0s 5ms/step - loss: 1.7073 - accuracy: 0.2647\n",
      "Epoch 77/300\n",
      "2/2 [==============================] - 0s 5ms/step - loss: 1.7014 - accuracy: 0.2941\n",
      "Epoch 78/300\n",
      "2/2 [==============================] - 0s 5ms/step - loss: 1.6948 - accuracy: 0.2941\n",
      "Epoch 79/300\n",
      "2/2 [==============================] - 0s 5ms/step - loss: 1.6880 - accuracy: 0.2941\n",
      "Epoch 80/300\n",
      "2/2 [==============================] - 0s 5ms/step - loss: 1.6813 - accuracy: 0.3529\n",
      "Epoch 81/300\n",
      "2/2 [==============================] - 0s 5ms/step - loss: 1.6735 - accuracy: 0.3529\n",
      "Epoch 82/300\n",
      "2/2 [==============================] - 0s 6ms/step - loss: 1.6656 - accuracy: 0.4412\n",
      "Epoch 83/300\n",
      "2/2 [==============================] - 0s 5ms/step - loss: 1.6569 - accuracy: 0.4412\n",
      "Epoch 84/300\n"
     ]
    },
    {
     "name": "stdout",
     "output_type": "stream",
     "text": [
      "2/2 [==============================] - 0s 5ms/step - loss: 1.6485 - accuracy: 0.4412\n",
      "Epoch 85/300\n",
      "2/2 [==============================] - 0s 7ms/step - loss: 1.6389 - accuracy: 0.4412\n",
      "Epoch 86/300\n",
      "2/2 [==============================] - 0s 6ms/step - loss: 1.6299 - accuracy: 0.4412\n",
      "Epoch 87/300\n",
      "2/2 [==============================] - 0s 6ms/step - loss: 1.6195 - accuracy: 0.4412\n",
      "Epoch 88/300\n",
      "2/2 [==============================] - 0s 6ms/step - loss: 1.6101 - accuracy: 0.4412\n",
      "Epoch 89/300\n",
      "2/2 [==============================] - 0s 6ms/step - loss: 1.6011 - accuracy: 0.4412\n",
      "Epoch 90/300\n",
      "2/2 [==============================] - 0s 5ms/step - loss: 1.5910 - accuracy: 0.4412\n",
      "Epoch 91/300\n",
      "2/2 [==============================] - 0s 4ms/step - loss: 1.5802 - accuracy: 0.4412\n",
      "Epoch 92/300\n",
      "2/2 [==============================] - 0s 6ms/step - loss: 1.5677 - accuracy: 0.4412\n",
      "Epoch 93/300\n",
      "2/2 [==============================] - 0s 6ms/step - loss: 1.5548 - accuracy: 0.4412\n",
      "Epoch 94/300\n",
      "2/2 [==============================] - 0s 7ms/step - loss: 1.5426 - accuracy: 0.4412\n",
      "Epoch 95/300\n",
      "2/2 [==============================] - 0s 5ms/step - loss: 1.5282 - accuracy: 0.4412\n",
      "Epoch 96/300\n",
      "2/2 [==============================] - 0s 5ms/step - loss: 1.5157 - accuracy: 0.4412\n",
      "Epoch 97/300\n",
      "2/2 [==============================] - 0s 5ms/step - loss: 1.5041 - accuracy: 0.4706\n",
      "Epoch 98/300\n",
      "2/2 [==============================] - 0s 5ms/step - loss: 1.4917 - accuracy: 0.4706\n",
      "Epoch 99/300\n",
      "2/2 [==============================] - 0s 6ms/step - loss: 1.4824 - accuracy: 0.5294\n",
      "Epoch 100/300\n",
      "2/2 [==============================] - 0s 5ms/step - loss: 1.4727 - accuracy: 0.5294\n",
      "Epoch 101/300\n",
      "2/2 [==============================] - 0s 5ms/step - loss: 1.4614 - accuracy: 0.5294\n",
      "Epoch 102/300\n",
      "2/2 [==============================] - 0s 6ms/step - loss: 1.4478 - accuracy: 0.5588\n",
      "Epoch 103/300\n",
      "2/2 [==============================] - 0s 6ms/step - loss: 1.4334 - accuracy: 0.6176\n",
      "Epoch 104/300\n",
      "2/2 [==============================] - 0s 5ms/step - loss: 1.4191 - accuracy: 0.6765\n",
      "Epoch 105/300\n",
      "2/2 [==============================] - 0s 6ms/step - loss: 1.4064 - accuracy: 0.6765\n",
      "Epoch 106/300\n",
      "2/2 [==============================] - 0s 7ms/step - loss: 1.3939 - accuracy: 0.6471\n",
      "Epoch 107/300\n",
      "2/2 [==============================] - 0s 9ms/step - loss: 1.3855 - accuracy: 0.5882\n",
      "Epoch 108/300\n",
      "2/2 [==============================] - 0s 7ms/step - loss: 1.3778 - accuracy: 0.5294\n",
      "Epoch 109/300\n",
      "2/2 [==============================] - 0s 6ms/step - loss: 1.3666 - accuracy: 0.5294\n",
      "Epoch 110/300\n",
      "2/2 [==============================] - 0s 6ms/step - loss: 1.3488 - accuracy: 0.5294\n",
      "Epoch 111/300\n",
      "2/2 [==============================] - 0s 6ms/step - loss: 1.3293 - accuracy: 0.6176\n",
      "Epoch 112/300\n",
      "2/2 [==============================] - 0s 5ms/step - loss: 1.3100 - accuracy: 0.6765\n",
      "Epoch 113/300\n",
      "2/2 [==============================] - 0s 5ms/step - loss: 1.2951 - accuracy: 0.7059\n",
      "Epoch 114/300\n",
      "2/2 [==============================] - 0s 4ms/step - loss: 1.2833 - accuracy: 0.7353\n",
      "Epoch 115/300\n",
      "2/2 [==============================] - 0s 4ms/step - loss: 1.2743 - accuracy: 0.6765\n",
      "Epoch 116/300\n",
      "2/2 [==============================] - 0s 4ms/step - loss: 1.2744 - accuracy: 0.6765\n",
      "Epoch 117/300\n",
      "2/2 [==============================] - 0s 4ms/step - loss: 1.2657 - accuracy: 0.7353\n",
      "Epoch 118/300\n",
      "2/2 [==============================] - 0s 4ms/step - loss: 1.2546 - accuracy: 0.7353\n",
      "Epoch 119/300\n",
      "2/2 [==============================] - 0s 5ms/step - loss: 1.2450 - accuracy: 0.7353\n",
      "Epoch 120/300\n",
      "2/2 [==============================] - 0s 4ms/step - loss: 1.2386 - accuracy: 0.7059\n",
      "Epoch 121/300\n",
      "2/2 [==============================] - 0s 5ms/step - loss: 1.2280 - accuracy: 0.7059\n",
      "Epoch 122/300\n",
      "2/2 [==============================] - 0s 5ms/step - loss: 1.2118 - accuracy: 0.7059\n",
      "Epoch 123/300\n",
      "2/2 [==============================] - 0s 5ms/step - loss: 1.1949 - accuracy: 0.6765\n",
      "Epoch 124/300\n",
      "2/2 [==============================] - 0s 5ms/step - loss: 1.1770 - accuracy: 0.7059\n",
      "Epoch 125/300\n",
      "2/2 [==============================] - 0s 6ms/step - loss: 1.1603 - accuracy: 0.6765\n",
      "Epoch 126/300\n",
      "2/2 [==============================] - 0s 5ms/step - loss: 1.1442 - accuracy: 0.7059\n",
      "Epoch 127/300\n",
      "2/2 [==============================] - 0s 6ms/step - loss: 1.1259 - accuracy: 0.7059\n",
      "Epoch 128/300\n",
      "2/2 [==============================] - 0s 6ms/step - loss: 1.1077 - accuracy: 0.7059\n",
      "Epoch 129/300\n",
      "2/2 [==============================] - 0s 7ms/step - loss: 1.0910 - accuracy: 0.7353\n",
      "Epoch 130/300\n",
      "2/2 [==============================] - 0s 6ms/step - loss: 1.0767 - accuracy: 0.7647\n",
      "Epoch 131/300\n",
      "2/2 [==============================] - 0s 6ms/step - loss: 1.0604 - accuracy: 0.7647\n",
      "Epoch 132/300\n",
      "2/2 [==============================] - 0s 6ms/step - loss: 1.0453 - accuracy: 0.7647\n",
      "Epoch 133/300\n",
      "2/2 [==============================] - 0s 5ms/step - loss: 1.0317 - accuracy: 0.7647\n",
      "Epoch 134/300\n",
      "2/2 [==============================] - 0s 5ms/step - loss: 1.0179 - accuracy: 0.7647\n",
      "Epoch 135/300\n",
      "2/2 [==============================] - 0s 5ms/step - loss: 1.0038 - accuracy: 0.7647\n",
      "Epoch 136/300\n",
      "2/2 [==============================] - 0s 5ms/step - loss: 0.9911 - accuracy: 0.7353\n",
      "Epoch 137/300\n",
      "2/2 [==============================] - 0s 5ms/step - loss: 0.9758 - accuracy: 0.7353\n",
      "Epoch 138/300\n",
      "2/2 [==============================] - 0s 4ms/step - loss: 0.9618 - accuracy: 0.7353\n",
      "Epoch 139/300\n",
      "2/2 [==============================] - 0s 6ms/step - loss: 0.9456 - accuracy: 0.7941\n",
      "Epoch 140/300\n",
      "2/2 [==============================] - 0s 6ms/step - loss: 0.9329 - accuracy: 0.7941\n",
      "Epoch 141/300\n",
      "2/2 [==============================] - 0s 5ms/step - loss: 0.9174 - accuracy: 0.8235\n",
      "Epoch 142/300\n",
      "2/2 [==============================] - 0s 5ms/step - loss: 0.9012 - accuracy: 0.8529\n",
      "Epoch 143/300\n",
      "2/2 [==============================] - 0s 5ms/step - loss: 0.8905 - accuracy: 0.8235\n",
      "Epoch 144/300\n",
      "2/2 [==============================] - 0s 5ms/step - loss: 0.8839 - accuracy: 0.7941\n",
      "Epoch 145/300\n",
      "2/2 [==============================] - 0s 5ms/step - loss: 0.8825 - accuracy: 0.7941\n",
      "Epoch 146/300\n",
      "2/2 [==============================] - 0s 5ms/step - loss: 0.8821 - accuracy: 0.8529\n",
      "Epoch 147/300\n",
      "2/2 [==============================] - 0s 6ms/step - loss: 0.8820 - accuracy: 0.8235\n",
      "Epoch 148/300\n",
      "2/2 [==============================] - 0s 5ms/step - loss: 0.8859 - accuracy: 0.7941\n",
      "Epoch 149/300\n",
      "2/2 [==============================] - 0s 7ms/step - loss: 0.8850 - accuracy: 0.7647\n",
      "Epoch 150/300\n",
      "2/2 [==============================] - 0s 5ms/step - loss: 0.8656 - accuracy: 0.7941\n",
      "Epoch 151/300\n",
      "2/2 [==============================] - 0s 5ms/step - loss: 0.8399 - accuracy: 0.8235\n",
      "Epoch 152/300\n",
      "2/2 [==============================] - 0s 6ms/step - loss: 0.8207 - accuracy: 0.8529\n",
      "Epoch 153/300\n",
      "2/2 [==============================] - 0s 5ms/step - loss: 0.8011 - accuracy: 0.8529\n",
      "Epoch 154/300\n",
      "2/2 [==============================] - 0s 5ms/step - loss: 0.7843 - accuracy: 0.8529\n",
      "Epoch 155/300\n",
      "2/2 [==============================] - 0s 5ms/step - loss: 0.7796 - accuracy: 0.8529\n",
      "Epoch 156/300\n",
      "2/2 [==============================] - 0s 5ms/step - loss: 0.7781 - accuracy: 0.8824\n",
      "Epoch 157/300\n",
      "2/2 [==============================] - 0s 5ms/step - loss: 0.7750 - accuracy: 0.8824\n",
      "Epoch 158/300\n",
      "2/2 [==============================] - 0s 5ms/step - loss: 0.7733 - accuracy: 0.7941\n",
      "Epoch 159/300\n",
      "2/2 [==============================] - 0s 5ms/step - loss: 0.7603 - accuracy: 0.7941\n",
      "Epoch 160/300\n",
      "2/2 [==============================] - 0s 5ms/step - loss: 0.7390 - accuracy: 0.8824\n",
      "Epoch 161/300\n",
      "2/2 [==============================] - 0s 5ms/step - loss: 0.7192 - accuracy: 0.8824\n",
      "Epoch 162/300\n",
      "2/2 [==============================] - 0s 5ms/step - loss: 0.7064 - accuracy: 0.8824\n",
      "Epoch 163/300\n",
      "2/2 [==============================] - 0s 6ms/step - loss: 0.6981 - accuracy: 0.8529\n",
      "Epoch 164/300\n",
      "2/2 [==============================] - 0s 6ms/step - loss: 0.6933 - accuracy: 0.8824\n",
      "Epoch 165/300\n",
      "2/2 [==============================] - 0s 6ms/step - loss: 0.6889 - accuracy: 0.8529\n",
      "Epoch 166/300\n",
      "2/2 [==============================] - 0s 6ms/step - loss: 0.6846 - accuracy: 0.8235\n",
      "Epoch 167/300\n"
     ]
    },
    {
     "name": "stdout",
     "output_type": "stream",
     "text": [
      "2/2 [==============================] - 0s 6ms/step - loss: 0.6759 - accuracy: 0.8529\n",
      "Epoch 168/300\n",
      "2/2 [==============================] - 0s 6ms/step - loss: 0.6694 - accuracy: 0.8529\n",
      "Epoch 169/300\n",
      "2/2 [==============================] - 0s 6ms/step - loss: 0.6681 - accuracy: 0.8529\n",
      "Epoch 170/300\n",
      "2/2 [==============================] - 0s 7ms/step - loss: 0.6613 - accuracy: 0.7941\n",
      "Epoch 171/300\n",
      "2/2 [==============================] - 0s 7ms/step - loss: 0.6475 - accuracy: 0.8235\n",
      "Epoch 172/300\n",
      "2/2 [==============================] - 0s 6ms/step - loss: 0.6343 - accuracy: 0.8235\n",
      "Epoch 173/300\n",
      "2/2 [==============================] - 0s 6ms/step - loss: 0.6270 - accuracy: 0.8235\n",
      "Epoch 174/300\n",
      "2/2 [==============================] - 0s 6ms/step - loss: 0.6199 - accuracy: 0.8235\n",
      "Epoch 175/300\n",
      "2/2 [==============================] - 0s 6ms/step - loss: 0.6181 - accuracy: 0.8529\n",
      "Epoch 176/300\n",
      "2/2 [==============================] - 0s 6ms/step - loss: 0.6153 - accuracy: 0.8529\n",
      "Epoch 177/300\n",
      "2/2 [==============================] - 0s 6ms/step - loss: 0.6083 - accuracy: 0.8529\n",
      "Epoch 178/300\n",
      "2/2 [==============================] - 0s 5ms/step - loss: 0.5970 - accuracy: 0.8529\n",
      "Epoch 179/300\n",
      "2/2 [==============================] - 0s 7ms/step - loss: 0.5926 - accuracy: 0.8529\n",
      "Epoch 180/300\n",
      "2/2 [==============================] - 0s 6ms/step - loss: 0.5861 - accuracy: 0.8529\n",
      "Epoch 181/300\n",
      "2/2 [==============================] - 0s 5ms/step - loss: 0.5780 - accuracy: 0.8529\n",
      "Epoch 182/300\n",
      "2/2 [==============================] - 0s 6ms/step - loss: 0.5720 - accuracy: 0.8529\n",
      "Epoch 183/300\n",
      "2/2 [==============================] - 0s 6ms/step - loss: 0.5655 - accuracy: 0.8529\n",
      "Epoch 184/300\n",
      "2/2 [==============================] - 0s 6ms/step - loss: 0.5581 - accuracy: 0.8824\n",
      "Epoch 185/300\n",
      "2/2 [==============================] - 0s 5ms/step - loss: 0.5515 - accuracy: 0.8824\n",
      "Epoch 186/300\n",
      "2/2 [==============================] - 0s 6ms/step - loss: 0.5440 - accuracy: 0.9118\n",
      "Epoch 187/300\n",
      "2/2 [==============================] - 0s 6ms/step - loss: 0.5353 - accuracy: 0.9118\n",
      "Epoch 188/300\n",
      "2/2 [==============================] - 0s 5ms/step - loss: 0.5279 - accuracy: 0.9118\n",
      "Epoch 189/300\n",
      "2/2 [==============================] - 0s 5ms/step - loss: 0.5239 - accuracy: 0.9118\n",
      "Epoch 190/300\n",
      "2/2 [==============================] - 0s 6ms/step - loss: 0.5268 - accuracy: 0.8824\n",
      "Epoch 191/300\n",
      "2/2 [==============================] - 0s 7ms/step - loss: 0.5310 - accuracy: 0.9118\n",
      "Epoch 192/300\n",
      "2/2 [==============================] - 0s 5ms/step - loss: 0.5399 - accuracy: 0.9118\n",
      "Epoch 193/300\n",
      "2/2 [==============================] - 0s 5ms/step - loss: 0.5519 - accuracy: 0.9118\n",
      "Epoch 194/300\n",
      "2/2 [==============================] - 0s 5ms/step - loss: 0.5578 - accuracy: 0.9118\n",
      "Epoch 195/300\n",
      "2/2 [==============================] - 0s 5ms/step - loss: 0.5527 - accuracy: 0.9118\n",
      "Epoch 196/300\n",
      "2/2 [==============================] - 0s 6ms/step - loss: 0.5364 - accuracy: 0.9118\n",
      "Epoch 197/300\n",
      "2/2 [==============================] - 0s 6ms/step - loss: 0.5157 - accuracy: 0.9118\n",
      "Epoch 198/300\n",
      "2/2 [==============================] - 0s 4ms/step - loss: 0.5032 - accuracy: 0.9412\n",
      "Epoch 199/300\n",
      "2/2 [==============================] - 0s 5ms/step - loss: 0.4987 - accuracy: 0.9412\n",
      "Epoch 200/300\n",
      "2/2 [==============================] - 0s 7ms/step - loss: 0.5017 - accuracy: 0.9412\n",
      "Epoch 201/300\n",
      "2/2 [==============================] - 0s 6ms/step - loss: 0.4985 - accuracy: 0.9412\n",
      "Epoch 202/300\n",
      "2/2 [==============================] - 0s 5ms/step - loss: 0.4945 - accuracy: 0.9412\n",
      "Epoch 203/300\n",
      "2/2 [==============================] - 0s 6ms/step - loss: 0.4882 - accuracy: 0.9412\n",
      "Epoch 204/300\n",
      "2/2 [==============================] - 0s 6ms/step - loss: 0.4783 - accuracy: 0.9412\n",
      "Epoch 205/300\n",
      "2/2 [==============================] - 0s 5ms/step - loss: 0.4642 - accuracy: 0.9706\n",
      "Epoch 206/300\n",
      "2/2 [==============================] - 0s 5ms/step - loss: 0.4507 - accuracy: 0.9706\n",
      "Epoch 207/300\n",
      "2/2 [==============================] - 0s 6ms/step - loss: 0.4428 - accuracy: 0.8824\n",
      "Epoch 208/300\n",
      "2/2 [==============================] - 0s 6ms/step - loss: 0.4448 - accuracy: 0.8824\n",
      "Epoch 209/300\n",
      "2/2 [==============================] - 0s 6ms/step - loss: 0.4512 - accuracy: 0.8824\n",
      "Epoch 210/300\n",
      "2/2 [==============================] - 0s 4ms/step - loss: 0.4452 - accuracy: 0.8824\n",
      "Epoch 211/300\n",
      "2/2 [==============================] - 0s 6ms/step - loss: 0.4266 - accuracy: 0.9118\n",
      "Epoch 212/300\n",
      "2/2 [==============================] - 0s 6ms/step - loss: 0.4137 - accuracy: 0.9118\n",
      "Epoch 213/300\n",
      "2/2 [==============================] - 0s 5ms/step - loss: 0.4100 - accuracy: 0.9118\n",
      "Epoch 214/300\n",
      "2/2 [==============================] - 0s 6ms/step - loss: 0.4148 - accuracy: 0.9118\n",
      "Epoch 215/300\n",
      "2/2 [==============================] - 0s 6ms/step - loss: 0.4222 - accuracy: 0.9412\n",
      "Epoch 216/300\n",
      "2/2 [==============================] - 0s 6ms/step - loss: 0.4286 - accuracy: 0.9118\n",
      "Epoch 217/300\n",
      "2/2 [==============================] - 0s 6ms/step - loss: 0.4243 - accuracy: 0.9118\n",
      "Epoch 218/300\n",
      "2/2 [==============================] - 0s 5ms/step - loss: 0.4104 - accuracy: 0.9118\n",
      "Epoch 219/300\n",
      "2/2 [==============================] - 0s 5ms/step - loss: 0.3966 - accuracy: 0.9412\n",
      "Epoch 220/300\n",
      "2/2 [==============================] - 0s 5ms/step - loss: 0.3893 - accuracy: 0.9706\n",
      "Epoch 221/300\n",
      "2/2 [==============================] - 0s 6ms/step - loss: 0.3890 - accuracy: 0.9412\n",
      "Epoch 222/300\n",
      "2/2 [==============================] - 0s 6ms/step - loss: 0.3949 - accuracy: 0.9412\n",
      "Epoch 223/300\n",
      "2/2 [==============================] - 0s 6ms/step - loss: 0.4051 - accuracy: 0.9412\n",
      "Epoch 224/300\n",
      "2/2 [==============================] - 0s 5ms/step - loss: 0.4037 - accuracy: 0.9706\n",
      "Epoch 225/300\n",
      "2/2 [==============================] - 0s 5ms/step - loss: 0.3932 - accuracy: 0.9706\n",
      "Epoch 226/300\n",
      "2/2 [==============================] - 0s 5ms/step - loss: 0.3837 - accuracy: 0.9706\n",
      "Epoch 227/300\n",
      "2/2 [==============================] - 0s 5ms/step - loss: 0.3725 - accuracy: 0.9706\n",
      "Epoch 228/300\n",
      "2/2 [==============================] - 0s 5ms/step - loss: 0.3693 - accuracy: 0.9412\n",
      "Epoch 229/300\n",
      "2/2 [==============================] - 0s 4ms/step - loss: 0.3692 - accuracy: 0.9412\n",
      "Epoch 230/300\n",
      "2/2 [==============================] - 0s 5ms/step - loss: 0.3678 - accuracy: 0.9412\n",
      "Epoch 231/300\n",
      "2/2 [==============================] - 0s 6ms/step - loss: 0.3608 - accuracy: 0.9412\n",
      "Epoch 232/300\n",
      "2/2 [==============================] - 0s 6ms/step - loss: 0.3505 - accuracy: 0.9706\n",
      "Epoch 233/300\n",
      "2/2 [==============================] - 0s 6ms/step - loss: 0.3432 - accuracy: 0.9706\n",
      "Epoch 234/300\n",
      "2/2 [==============================] - 0s 5ms/step - loss: 0.3410 - accuracy: 0.9706\n",
      "Epoch 235/300\n",
      "2/2 [==============================] - 0s 5ms/step - loss: 0.3407 - accuracy: 0.9412\n",
      "Epoch 236/300\n",
      "2/2 [==============================] - 0s 6ms/step - loss: 0.3394 - accuracy: 0.9412\n",
      "Epoch 237/300\n",
      "2/2 [==============================] - 0s 5ms/step - loss: 0.3350 - accuracy: 0.9412\n",
      "Epoch 238/300\n",
      "2/2 [==============================] - 0s 5ms/step - loss: 0.3294 - accuracy: 0.9412\n",
      "Epoch 239/300\n",
      "2/2 [==============================] - 0s 5ms/step - loss: 0.3248 - accuracy: 0.9706\n",
      "Epoch 240/300\n",
      "2/2 [==============================] - 0s 5ms/step - loss: 0.3211 - accuracy: 0.9706\n",
      "Epoch 241/300\n",
      "2/2 [==============================] - 0s 4ms/step - loss: 0.3273 - accuracy: 0.9412\n",
      "Epoch 242/300\n",
      "2/2 [==============================] - 0s 5ms/step - loss: 0.3379 - accuracy: 0.9706\n",
      "Epoch 243/300\n",
      "2/2 [==============================] - 0s 5ms/step - loss: 0.3556 - accuracy: 0.9118\n",
      "Epoch 244/300\n",
      "2/2 [==============================] - 0s 5ms/step - loss: 0.3490 - accuracy: 0.9412\n",
      "Epoch 245/300\n",
      "2/2 [==============================] - 0s 6ms/step - loss: 0.3245 - accuracy: 0.9706\n",
      "Epoch 246/300\n",
      "2/2 [==============================] - 0s 5ms/step - loss: 0.3039 - accuracy: 0.9706\n",
      "Epoch 247/300\n",
      "2/2 [==============================] - 0s 6ms/step - loss: 0.3071 - accuracy: 0.9706\n",
      "Epoch 248/300\n",
      "2/2 [==============================] - 0s 6ms/step - loss: 0.3169 - accuracy: 0.9706\n",
      "Epoch 249/300\n"
     ]
    },
    {
     "name": "stdout",
     "output_type": "stream",
     "text": [
      "2/2 [==============================] - 0s 6ms/step - loss: 0.3155 - accuracy: 0.9706\n",
      "Epoch 250/300\n",
      "2/2 [==============================] - 0s 5ms/step - loss: 0.3036 - accuracy: 0.9706\n",
      "Epoch 251/300\n",
      "2/2 [==============================] - 0s 6ms/step - loss: 0.2920 - accuracy: 0.9706\n",
      "Epoch 252/300\n",
      "2/2 [==============================] - 0s 6ms/step - loss: 0.2844 - accuracy: 0.9706\n",
      "Epoch 253/300\n",
      "2/2 [==============================] - 0s 6ms/step - loss: 0.2805 - accuracy: 0.9706\n",
      "Epoch 254/300\n",
      "2/2 [==============================] - 0s 5ms/step - loss: 0.2781 - accuracy: 0.9706\n",
      "Epoch 255/300\n",
      "2/2 [==============================] - 0s 7ms/step - loss: 0.2789 - accuracy: 0.9706\n",
      "Epoch 256/300\n",
      "2/2 [==============================] - 0s 5ms/step - loss: 0.2767 - accuracy: 0.9706\n",
      "Epoch 257/300\n",
      "2/2 [==============================] - 0s 5ms/step - loss: 0.2749 - accuracy: 0.9706\n",
      "Epoch 258/300\n",
      "2/2 [==============================] - 0s 6ms/step - loss: 0.2730 - accuracy: 0.9706\n",
      "Epoch 259/300\n",
      "2/2 [==============================] - 0s 6ms/step - loss: 0.2694 - accuracy: 0.9706\n",
      "Epoch 260/300\n",
      "2/2 [==============================] - 0s 7ms/step - loss: 0.2658 - accuracy: 0.9706\n",
      "Epoch 261/300\n",
      "2/2 [==============================] - 0s 5ms/step - loss: 0.2618 - accuracy: 0.9706\n",
      "Epoch 262/300\n",
      "2/2 [==============================] - 0s 6ms/step - loss: 0.2572 - accuracy: 0.9706\n",
      "Epoch 263/300\n",
      "2/2 [==============================] - 0s 5ms/step - loss: 0.2528 - accuracy: 0.9706\n",
      "Epoch 264/300\n",
      "2/2 [==============================] - 0s 5ms/step - loss: 0.2497 - accuracy: 0.9706\n",
      "Epoch 265/300\n",
      "2/2 [==============================] - 0s 5ms/step - loss: 0.2470 - accuracy: 0.9706\n",
      "Epoch 266/300\n",
      "2/2 [==============================] - 0s 6ms/step - loss: 0.2446 - accuracy: 0.9706\n",
      "Epoch 267/300\n",
      "2/2 [==============================] - 0s 5ms/step - loss: 0.2424 - accuracy: 0.9706\n",
      "Epoch 268/300\n",
      "2/2 [==============================] - 0s 6ms/step - loss: 0.2403 - accuracy: 0.9706\n",
      "Epoch 269/300\n",
      "2/2 [==============================] - 0s 5ms/step - loss: 0.2380 - accuracy: 0.9706\n",
      "Epoch 270/300\n",
      "2/2 [==============================] - 0s 6ms/step - loss: 0.2356 - accuracy: 0.9706\n",
      "Epoch 271/300\n",
      "2/2 [==============================] - 0s 5ms/step - loss: 0.2341 - accuracy: 0.9706\n",
      "Epoch 272/300\n",
      "2/2 [==============================] - 0s 6ms/step - loss: 0.2339 - accuracy: 0.9706\n",
      "Epoch 273/300\n",
      "2/2 [==============================] - 0s 5ms/step - loss: 0.2332 - accuracy: 0.9706\n",
      "Epoch 274/300\n",
      "2/2 [==============================] - 0s 6ms/step - loss: 0.2318 - accuracy: 0.9706\n",
      "Epoch 275/300\n",
      "2/2 [==============================] - 0s 6ms/step - loss: 0.2300 - accuracy: 0.9706\n",
      "Epoch 276/300\n",
      "2/2 [==============================] - 0s 5ms/step - loss: 0.2276 - accuracy: 0.9706\n",
      "Epoch 277/300\n",
      "2/2 [==============================] - 0s 5ms/step - loss: 0.2251 - accuracy: 0.9706\n",
      "Epoch 278/300\n",
      "2/2 [==============================] - 0s 5ms/step - loss: 0.2224 - accuracy: 0.9706\n",
      "Epoch 279/300\n",
      "2/2 [==============================] - 0s 5ms/step - loss: 0.2191 - accuracy: 0.9706\n",
      "Epoch 280/300\n",
      "2/2 [==============================] - 0s 6ms/step - loss: 0.2162 - accuracy: 0.9706\n",
      "Epoch 281/300\n",
      "2/2 [==============================] - 0s 6ms/step - loss: 0.2143 - accuracy: 0.9706\n",
      "Epoch 282/300\n",
      "2/2 [==============================] - 0s 5ms/step - loss: 0.2103 - accuracy: 0.9706\n",
      "Epoch 283/300\n",
      "2/2 [==============================] - 0s 6ms/step - loss: 0.2091 - accuracy: 1.0000\n",
      "Epoch 284/300\n",
      "2/2 [==============================] - 0s 6ms/step - loss: 0.2099 - accuracy: 1.0000\n",
      "Epoch 285/300\n",
      "2/2 [==============================] - 0s 6ms/step - loss: 0.2080 - accuracy: 1.0000\n",
      "Epoch 286/300\n",
      "2/2 [==============================] - 0s 6ms/step - loss: 0.2057 - accuracy: 1.0000\n",
      "Epoch 287/300\n",
      "2/2 [==============================] - 0s 5ms/step - loss: 0.2037 - accuracy: 1.0000\n",
      "Epoch 288/300\n",
      "2/2 [==============================] - 0s 6ms/step - loss: 0.2042 - accuracy: 1.0000\n",
      "Epoch 289/300\n",
      "2/2 [==============================] - 0s 5ms/step - loss: 0.2060 - accuracy: 1.0000\n",
      "Epoch 290/300\n",
      "2/2 [==============================] - 0s 5ms/step - loss: 0.2059 - accuracy: 1.0000\n",
      "Epoch 291/300\n",
      "2/2 [==============================] - 0s 6ms/step - loss: 0.2022 - accuracy: 1.0000\n",
      "Epoch 292/300\n",
      "2/2 [==============================] - 0s 6ms/step - loss: 0.1960 - accuracy: 1.0000\n",
      "Epoch 293/300\n",
      "2/2 [==============================] - 0s 6ms/step - loss: 0.1907 - accuracy: 1.0000\n",
      "Epoch 294/300\n",
      "2/2 [==============================] - 0s 5ms/step - loss: 0.1889 - accuracy: 1.0000\n",
      "Epoch 295/300\n",
      "2/2 [==============================] - 0s 5ms/step - loss: 0.1876 - accuracy: 1.0000\n",
      "Epoch 296/300\n",
      "2/2 [==============================] - 0s 5ms/step - loss: 0.1865 - accuracy: 1.0000\n",
      "Epoch 297/300\n",
      "2/2 [==============================] - 0s 6ms/step - loss: 0.1852 - accuracy: 1.0000\n",
      "Epoch 298/300\n",
      "2/2 [==============================] - 0s 5ms/step - loss: 0.1832 - accuracy: 0.9706\n",
      "Epoch 299/300\n",
      "2/2 [==============================] - 0s 6ms/step - loss: 0.1840 - accuracy: 0.9706\n",
      "Epoch 300/300\n",
      "2/2 [==============================] - 0s 5ms/step - loss: 0.1863 - accuracy: 0.9706\n"
     ]
    },
    {
     "data": {
      "text/plain": [
       "<keras.callbacks.History at 0x7f7c686230a0>"
      ]
     },
     "execution_count": 23,
     "metadata": {},
     "output_type": "execute_result"
    }
   ],
   "source": [
    "model.fit(x_train,y_train,epochs=300)"
   ]
  },
  {
   "cell_type": "code",
   "execution_count": 24,
   "metadata": {},
   "outputs": [
    {
     "name": "stdout",
     "output_type": "stream",
     "text": [
      "You :- bye\n",
      "1/1 [==============================] - 0s 284ms/step\n",
      "Chat Bot :-  Goodbye!\n"
     ]
    }
   ],
   "source": [
    "import random\n",
    "\n",
    "while True:\n",
    "    text_p=[]\n",
    "    prediction_input=input('You :- ')\n",
    "    \n",
    "#     removing punt and converting to lower_case\n",
    "    prediction_input=[letters.lower() for letters in prediction_input if letters not in string.punctuation]\n",
    "    prediction_input=''.join(prediction_input)\n",
    "    text_p.append(prediction_input)\n",
    "    \n",
    "#     tokenizing and padding\n",
    "    prediction_input=tokenizer.texts_to_sequences(text_p)\n",
    "    prediction_input=np.array(prediction_input).reshape(-1)\n",
    "    prediction_input=pad_sequences([prediction_input],input_shape)\n",
    "    \n",
    "#     getting output from model\n",
    "\n",
    "    output=model.predict(prediction_input)\n",
    "    output=output.argmax()\n",
    "    \n",
    "#     finding the right tag and predicting \n",
    "    response_tag=le.inverse_transform([output])[0]\n",
    "    print('Chat Bot :- ',random.choice(responses[response_tag]))\n",
    "    if response_tag=='goodbye':\n",
    "        break"
   ]
  },
  {
   "cell_type": "code",
   "execution_count": 25,
   "metadata": {},
   "outputs": [
    {
     "name": "stdout",
     "output_type": "stream",
     "text": [
      "your 1\n",
      "what 2\n",
      "you 3\n",
      "are 4\n",
      "is 5\n",
      "name 6\n",
      "hours 7\n",
      "how 8\n",
      "age 9\n",
      "i 10\n",
      "good 11\n",
      "day 12\n",
      "whats 13\n",
      "old 14\n",
      "services 15\n",
      "of 16\n",
      "work 17\n",
      "hi 18\n",
      "anyone 19\n",
      "there 20\n",
      "hello 21\n",
      "up 22\n",
      "should 23\n",
      "call 24\n",
      "please 25\n",
      "stack 26\n",
      "when 27\n",
      "guys 28\n",
      "open 29\n",
      "operation 30\n",
      "working 31\n",
      "time 32\n",
      "cya 33\n",
      "see 34\n",
      "later 35\n",
      "goodbye 36\n",
      "am 37\n",
      "leaving 38\n",
      "have 39\n",
      "a 40\n",
      "bye 41\n",
      "sorry 42\n",
      "dont 43\n",
      "understand 44\n",
      "can 45\n",
      "repeat 46\n",
      "that 47\n",
      "im 48\n",
      "not 49\n",
      "sure 50\n",
      "mean 51\n"
     ]
    }
   ],
   "source": [
    "for word,index in tokenizer.word_index.items():\n",
    "    print(word,index)"
   ]
  },
  {
   "cell_type": "code",
   "execution_count": 26,
   "metadata": {},
   "outputs": [
    {
     "data": {
      "text/plain": [
       "'bye'"
      ]
     },
     "execution_count": 26,
     "metadata": {},
     "output_type": "execute_result"
    }
   ],
   "source": [
    "tokenizer.index_word[41]"
   ]
  },
  {
   "cell_type": "code",
   "execution_count": 27,
   "metadata": {},
   "outputs": [
    {
     "data": {
      "text/plain": [
       "41"
      ]
     },
     "execution_count": 27,
     "metadata": {},
     "output_type": "execute_result"
    }
   ],
   "source": [
    "tokenizer.word_index['bye']"
   ]
  },
  {
   "cell_type": "code",
   "execution_count": 28,
   "metadata": {},
   "outputs": [],
   "source": [
    "# model.save('chatterbot.h5')"
   ]
  },
  {
   "cell_type": "code",
   "execution_count": 29,
   "metadata": {},
   "outputs": [],
   "source": [
    "tokenizer_data=tokenizer.to_json()"
   ]
  },
  {
   "cell_type": "code",
   "execution_count": 30,
   "metadata": {},
   "outputs": [],
   "source": [
    "with open('data.json', 'w', encoding='utf-8') as f:\n",
    "    json.dump(tokenizer_data, f, ensure_ascii=False, indent=4)"
   ]
  },
  {
   "cell_type": "code",
   "execution_count": 31,
   "metadata": {},
   "outputs": [],
   "source": [
    "import tensorflow as tf\n",
    "new_data=tf.keras.preprocessing.text.tokenizer_from_json(tokenizer_data)"
   ]
  },
  {
   "cell_type": "code",
   "execution_count": 32,
   "metadata": {},
   "outputs": [
    {
     "data": {
      "text/plain": [
       "51"
      ]
     },
     "execution_count": 32,
     "metadata": {},
     "output_type": "execute_result"
    }
   ],
   "source": [
    "new_data.word_index['mean']"
   ]
  },
  {
   "cell_type": "code",
   "execution_count": 33,
   "metadata": {},
   "outputs": [
    {
     "data": {
      "text/plain": [
       "'{\"class_name\": \"Tokenizer\", \"config\": {\"num_words\": 2000, \"filters\": \"!\\\\\"#$%&()*+,-./:;<=>?@[\\\\\\\\]^_`{|}~\\\\t\\\\n\", \"lower\": true, \"split\": \" \", \"char_level\": false, \"oov_token\": null, \"document_count\": 34, \"word_counts\": \"{\\\\\"hi\\\\\": 1, \\\\\"how\\\\\": 3, \\\\\"are\\\\\": 5, \\\\\"you\\\\\": 7, \\\\\"is\\\\\": 5, \\\\\"anyone\\\\\": 1, \\\\\"there\\\\\": 1, \\\\\"hello\\\\\": 1, \\\\\"good\\\\\": 2, \\\\\"day\\\\\": 2, \\\\\"whats\\\\\": 2, \\\\\"up\\\\\": 1, \\\\\"old\\\\\": 2, \\\\\"what\\\\\": 8, \\\\\"your\\\\\": 9, \\\\\"age\\\\\": 3, \\\\\"name\\\\\": 4, \\\\\"should\\\\\": 1, \\\\\"i\\\\\": 3, \\\\\"call\\\\\": 1, \\\\\"please\\\\\": 1, \\\\\"services\\\\\": 2, \\\\\"stack\\\\\": 1, \\\\\"when\\\\\": 1, \\\\\"guys\\\\\": 1, \\\\\"open\\\\\": 1, \\\\\"hours\\\\\": 4, \\\\\"of\\\\\": 2, \\\\\"operation\\\\\": 1, \\\\\"working\\\\\": 1, \\\\\"work\\\\\": 2, \\\\\"time\\\\\": 1, \\\\\"cya\\\\\": 1, \\\\\"see\\\\\": 1, \\\\\"later\\\\\": 1, \\\\\"goodbye\\\\\": 1, \\\\\"am\\\\\": 1, \\\\\"leaving\\\\\": 1, \\\\\"have\\\\\": 1, \\\\\"a\\\\\": 1, \\\\\"bye\\\\\": 1, \\\\\"sorry\\\\\": 1, \\\\\"dont\\\\\": 1, \\\\\"understand\\\\\": 1, \\\\\"can\\\\\": 1, \\\\\"repeat\\\\\": 1, \\\\\"that\\\\\": 1, \\\\\"im\\\\\": 1, \\\\\"not\\\\\": 1, \\\\\"sure\\\\\": 1, \\\\\"mean\\\\\": 1}\", \"word_docs\": \"{\\\\\"hi\\\\\": 1, \\\\\"you\\\\\": 7, \\\\\"are\\\\\": 5, \\\\\"how\\\\\": 3, \\\\\"is\\\\\": 5, \\\\\"anyone\\\\\": 1, \\\\\"there\\\\\": 1, \\\\\"hello\\\\\": 1, \\\\\"good\\\\\": 2, \\\\\"day\\\\\": 2, \\\\\"up\\\\\": 1, \\\\\"whats\\\\\": 2, \\\\\"old\\\\\": 2, \\\\\"your\\\\\": 9, \\\\\"age\\\\\": 3, \\\\\"what\\\\\": 8, \\\\\"name\\\\\": 4, \\\\\"i\\\\\": 3, \\\\\"call\\\\\": 1, \\\\\"should\\\\\": 1, \\\\\"please\\\\\": 1, \\\\\"services\\\\\": 2, \\\\\"stack\\\\\": 1, \\\\\"open\\\\\": 1, \\\\\"when\\\\\": 1, \\\\\"guys\\\\\": 1, \\\\\"hours\\\\\": 4, \\\\\"of\\\\\": 2, \\\\\"operation\\\\\": 1, \\\\\"working\\\\\": 1, \\\\\"work\\\\\": 2, \\\\\"time\\\\\": 1, \\\\\"cya\\\\\": 1, \\\\\"later\\\\\": 1, \\\\\"see\\\\\": 1, \\\\\"goodbye\\\\\": 1, \\\\\"am\\\\\": 1, \\\\\"leaving\\\\\": 1, \\\\\"a\\\\\": 1, \\\\\"have\\\\\": 1, \\\\\"bye\\\\\": 1, \\\\\"dont\\\\\": 1, \\\\\"sorry\\\\\": 1, \\\\\"understand\\\\\": 1, \\\\\"can\\\\\": 1, \\\\\"repeat\\\\\": 1, \\\\\"that\\\\\": 1, \\\\\"mean\\\\\": 1, \\\\\"sure\\\\\": 1, \\\\\"not\\\\\": 1, \\\\\"im\\\\\": 1}\", \"index_docs\": \"{\\\\\"18\\\\\": 1, \\\\\"3\\\\\": 7, \\\\\"4\\\\\": 5, \\\\\"8\\\\\": 3, \\\\\"5\\\\\": 5, \\\\\"19\\\\\": 1, \\\\\"20\\\\\": 1, \\\\\"21\\\\\": 1, \\\\\"11\\\\\": 2, \\\\\"12\\\\\": 2, \\\\\"22\\\\\": 1, \\\\\"13\\\\\": 2, \\\\\"14\\\\\": 2, \\\\\"1\\\\\": 9, \\\\\"9\\\\\": 3, \\\\\"2\\\\\": 8, \\\\\"6\\\\\": 4, \\\\\"10\\\\\": 3, \\\\\"24\\\\\": 1, \\\\\"23\\\\\": 1, \\\\\"25\\\\\": 1, \\\\\"15\\\\\": 2, \\\\\"26\\\\\": 1, \\\\\"29\\\\\": 1, \\\\\"27\\\\\": 1, \\\\\"28\\\\\": 1, \\\\\"7\\\\\": 4, \\\\\"16\\\\\": 2, \\\\\"30\\\\\": 1, \\\\\"31\\\\\": 1, \\\\\"17\\\\\": 2, \\\\\"32\\\\\": 1, \\\\\"33\\\\\": 1, \\\\\"35\\\\\": 1, \\\\\"34\\\\\": 1, \\\\\"36\\\\\": 1, \\\\\"37\\\\\": 1, \\\\\"38\\\\\": 1, \\\\\"40\\\\\": 1, \\\\\"39\\\\\": 1, \\\\\"41\\\\\": 1, \\\\\"43\\\\\": 1, \\\\\"42\\\\\": 1, \\\\\"44\\\\\": 1, \\\\\"45\\\\\": 1, \\\\\"46\\\\\": 1, \\\\\"47\\\\\": 1, \\\\\"51\\\\\": 1, \\\\\"50\\\\\": 1, \\\\\"49\\\\\": 1, \\\\\"48\\\\\": 1}\", \"index_word\": \"{\\\\\"1\\\\\": \\\\\"your\\\\\", \\\\\"2\\\\\": \\\\\"what\\\\\", \\\\\"3\\\\\": \\\\\"you\\\\\", \\\\\"4\\\\\": \\\\\"are\\\\\", \\\\\"5\\\\\": \\\\\"is\\\\\", \\\\\"6\\\\\": \\\\\"name\\\\\", \\\\\"7\\\\\": \\\\\"hours\\\\\", \\\\\"8\\\\\": \\\\\"how\\\\\", \\\\\"9\\\\\": \\\\\"age\\\\\", \\\\\"10\\\\\": \\\\\"i\\\\\", \\\\\"11\\\\\": \\\\\"good\\\\\", \\\\\"12\\\\\": \\\\\"day\\\\\", \\\\\"13\\\\\": \\\\\"whats\\\\\", \\\\\"14\\\\\": \\\\\"old\\\\\", \\\\\"15\\\\\": \\\\\"services\\\\\", \\\\\"16\\\\\": \\\\\"of\\\\\", \\\\\"17\\\\\": \\\\\"work\\\\\", \\\\\"18\\\\\": \\\\\"hi\\\\\", \\\\\"19\\\\\": \\\\\"anyone\\\\\", \\\\\"20\\\\\": \\\\\"there\\\\\", \\\\\"21\\\\\": \\\\\"hello\\\\\", \\\\\"22\\\\\": \\\\\"up\\\\\", \\\\\"23\\\\\": \\\\\"should\\\\\", \\\\\"24\\\\\": \\\\\"call\\\\\", \\\\\"25\\\\\": \\\\\"please\\\\\", \\\\\"26\\\\\": \\\\\"stack\\\\\", \\\\\"27\\\\\": \\\\\"when\\\\\", \\\\\"28\\\\\": \\\\\"guys\\\\\", \\\\\"29\\\\\": \\\\\"open\\\\\", \\\\\"30\\\\\": \\\\\"operation\\\\\", \\\\\"31\\\\\": \\\\\"working\\\\\", \\\\\"32\\\\\": \\\\\"time\\\\\", \\\\\"33\\\\\": \\\\\"cya\\\\\", \\\\\"34\\\\\": \\\\\"see\\\\\", \\\\\"35\\\\\": \\\\\"later\\\\\", \\\\\"36\\\\\": \\\\\"goodbye\\\\\", \\\\\"37\\\\\": \\\\\"am\\\\\", \\\\\"38\\\\\": \\\\\"leaving\\\\\", \\\\\"39\\\\\": \\\\\"have\\\\\", \\\\\"40\\\\\": \\\\\"a\\\\\", \\\\\"41\\\\\": \\\\\"bye\\\\\", \\\\\"42\\\\\": \\\\\"sorry\\\\\", \\\\\"43\\\\\": \\\\\"dont\\\\\", \\\\\"44\\\\\": \\\\\"understand\\\\\", \\\\\"45\\\\\": \\\\\"can\\\\\", \\\\\"46\\\\\": \\\\\"repeat\\\\\", \\\\\"47\\\\\": \\\\\"that\\\\\", \\\\\"48\\\\\": \\\\\"im\\\\\", \\\\\"49\\\\\": \\\\\"not\\\\\", \\\\\"50\\\\\": \\\\\"sure\\\\\", \\\\\"51\\\\\": \\\\\"mean\\\\\"}\", \"word_index\": \"{\\\\\"your\\\\\": 1, \\\\\"what\\\\\": 2, \\\\\"you\\\\\": 3, \\\\\"are\\\\\": 4, \\\\\"is\\\\\": 5, \\\\\"name\\\\\": 6, \\\\\"hours\\\\\": 7, \\\\\"how\\\\\": 8, \\\\\"age\\\\\": 9, \\\\\"i\\\\\": 10, \\\\\"good\\\\\": 11, \\\\\"day\\\\\": 12, \\\\\"whats\\\\\": 13, \\\\\"old\\\\\": 14, \\\\\"services\\\\\": 15, \\\\\"of\\\\\": 16, \\\\\"work\\\\\": 17, \\\\\"hi\\\\\": 18, \\\\\"anyone\\\\\": 19, \\\\\"there\\\\\": 20, \\\\\"hello\\\\\": 21, \\\\\"up\\\\\": 22, \\\\\"should\\\\\": 23, \\\\\"call\\\\\": 24, \\\\\"please\\\\\": 25, \\\\\"stack\\\\\": 26, \\\\\"when\\\\\": 27, \\\\\"guys\\\\\": 28, \\\\\"open\\\\\": 29, \\\\\"operation\\\\\": 30, \\\\\"working\\\\\": 31, \\\\\"time\\\\\": 32, \\\\\"cya\\\\\": 33, \\\\\"see\\\\\": 34, \\\\\"later\\\\\": 35, \\\\\"goodbye\\\\\": 36, \\\\\"am\\\\\": 37, \\\\\"leaving\\\\\": 38, \\\\\"have\\\\\": 39, \\\\\"a\\\\\": 40, \\\\\"bye\\\\\": 41, \\\\\"sorry\\\\\": 42, \\\\\"dont\\\\\": 43, \\\\\"understand\\\\\": 44, \\\\\"can\\\\\": 45, \\\\\"repeat\\\\\": 46, \\\\\"that\\\\\": 47, \\\\\"im\\\\\": 48, \\\\\"not\\\\\": 49, \\\\\"sure\\\\\": 50, \\\\\"mean\\\\\": 51}\"}}'"
      ]
     },
     "execution_count": 33,
     "metadata": {},
     "output_type": "execute_result"
    }
   ],
   "source": [
    "with open('data.json','r') as f:\n",
    "    file=json.load(f)\n",
    "file"
   ]
  }
 ],
 "metadata": {
  "kernelspec": {
   "display_name": "Python 3 (ipykernel)",
   "language": "python",
   "name": "python3"
  },
  "language_info": {
   "codemirror_mode": {
    "name": "ipython",
    "version": 3
   },
   "file_extension": ".py",
   "mimetype": "text/x-python",
   "name": "python",
   "nbconvert_exporter": "python",
   "pygments_lexer": "ipython3",
   "version": "3.10.7"
  }
 },
 "nbformat": 4,
 "nbformat_minor": 4
}
